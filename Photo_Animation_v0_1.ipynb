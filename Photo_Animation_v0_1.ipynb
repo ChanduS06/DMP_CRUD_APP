{
  "nbformat": 4,
  "nbformat_minor": 0,
  "metadata": {
    "colab": {
      "name": "Photo Animation v0.1.ipynb",
      "provenance": [],
      "collapsed_sections": [],
      "authorship_tag": "ABX9TyP06wCelT9PjR7Lvm3lkQgn",
      "include_colab_link": true
    },
    "kernelspec": {
      "name": "python3",
      "display_name": "Python 3"
    },
    "language_info": {
      "name": "python"
    },
    "accelerator": "GPU",
    "widgets": {
      "application/vnd.jupyter.widget-state+json": {
        "e2f5990212df40eea8ca252762498bae": {
          "model_module": "@jupyter-widgets/controls",
          "model_name": "HBoxModel",
          "model_module_version": "1.5.0",
          "state": {
            "_dom_classes": [],
            "_model_module": "@jupyter-widgets/controls",
            "_model_module_version": "1.5.0",
            "_model_name": "HBoxModel",
            "_view_count": null,
            "_view_module": "@jupyter-widgets/controls",
            "_view_module_version": "1.5.0",
            "_view_name": "HBoxView",
            "box_style": "",
            "children": [
              "IPY_MODEL_de5445798d714f18bfc70f0efdfeeb82",
              "IPY_MODEL_8e4ef2190a3a47279658394081e85310",
              "IPY_MODEL_1911bdae5b734486bf27cd103e78cc10"
            ],
            "layout": "IPY_MODEL_9678b511330845dbbb1576a32c0b4264"
          }
        },
        "de5445798d714f18bfc70f0efdfeeb82": {
          "model_module": "@jupyter-widgets/controls",
          "model_name": "HTMLModel",
          "model_module_version": "1.5.0",
          "state": {
            "_dom_classes": [],
            "_model_module": "@jupyter-widgets/controls",
            "_model_module_version": "1.5.0",
            "_model_name": "HTMLModel",
            "_view_count": null,
            "_view_module": "@jupyter-widgets/controls",
            "_view_module_version": "1.5.0",
            "_view_name": "HTMLView",
            "description": "",
            "description_tooltip": null,
            "layout": "IPY_MODEL_3a89b543cd6a4992bd218b245fca729c",
            "placeholder": "​",
            "style": "IPY_MODEL_bef1f8230b124557aab8fe52596ea317",
            "value": "100%"
          }
        },
        "8e4ef2190a3a47279658394081e85310": {
          "model_module": "@jupyter-widgets/controls",
          "model_name": "FloatProgressModel",
          "model_module_version": "1.5.0",
          "state": {
            "_dom_classes": [],
            "_model_module": "@jupyter-widgets/controls",
            "_model_module_version": "1.5.0",
            "_model_name": "FloatProgressModel",
            "_view_count": null,
            "_view_module": "@jupyter-widgets/controls",
            "_view_module_version": "1.5.0",
            "_view_name": "ProgressView",
            "bar_style": "success",
            "description": "",
            "description_tooltip": null,
            "layout": "IPY_MODEL_6716403201164bd4b32c40bb567f2247",
            "max": 420224,
            "min": 0,
            "orientation": "horizontal",
            "style": "IPY_MODEL_d522cbac2df8426aa100ab31e21585e4",
            "value": 420224
          }
        },
        "1911bdae5b734486bf27cd103e78cc10": {
          "model_module": "@jupyter-widgets/controls",
          "model_name": "HTMLModel",
          "model_module_version": "1.5.0",
          "state": {
            "_dom_classes": [],
            "_model_module": "@jupyter-widgets/controls",
            "_model_module_version": "1.5.0",
            "_model_name": "HTMLModel",
            "_view_count": null,
            "_view_module": "@jupyter-widgets/controls",
            "_view_module_version": "1.5.0",
            "_view_name": "HTMLView",
            "description": "",
            "description_tooltip": null,
            "layout": "IPY_MODEL_4d23da310edf4178bd72d478779504dc",
            "placeholder": "​",
            "style": "IPY_MODEL_cde7eb44fe124eeab84804fab3dde835",
            "value": " 410k/410k [00:00&lt;00:00, 7.84MB/s]"
          }
        },
        "9678b511330845dbbb1576a32c0b4264": {
          "model_module": "@jupyter-widgets/base",
          "model_name": "LayoutModel",
          "model_module_version": "1.2.0",
          "state": {
            "_model_module": "@jupyter-widgets/base",
            "_model_module_version": "1.2.0",
            "_model_name": "LayoutModel",
            "_view_count": null,
            "_view_module": "@jupyter-widgets/base",
            "_view_module_version": "1.2.0",
            "_view_name": "LayoutView",
            "align_content": null,
            "align_items": null,
            "align_self": null,
            "border": null,
            "bottom": null,
            "display": null,
            "flex": null,
            "flex_flow": null,
            "grid_area": null,
            "grid_auto_columns": null,
            "grid_auto_flow": null,
            "grid_auto_rows": null,
            "grid_column": null,
            "grid_gap": null,
            "grid_row": null,
            "grid_template_areas": null,
            "grid_template_columns": null,
            "grid_template_rows": null,
            "height": null,
            "justify_content": null,
            "justify_items": null,
            "left": null,
            "margin": null,
            "max_height": null,
            "max_width": null,
            "min_height": null,
            "min_width": null,
            "object_fit": null,
            "object_position": null,
            "order": null,
            "overflow": null,
            "overflow_x": null,
            "overflow_y": null,
            "padding": null,
            "right": null,
            "top": null,
            "visibility": null,
            "width": null
          }
        },
        "3a89b543cd6a4992bd218b245fca729c": {
          "model_module": "@jupyter-widgets/base",
          "model_name": "LayoutModel",
          "model_module_version": "1.2.0",
          "state": {
            "_model_module": "@jupyter-widgets/base",
            "_model_module_version": "1.2.0",
            "_model_name": "LayoutModel",
            "_view_count": null,
            "_view_module": "@jupyter-widgets/base",
            "_view_module_version": "1.2.0",
            "_view_name": "LayoutView",
            "align_content": null,
            "align_items": null,
            "align_self": null,
            "border": null,
            "bottom": null,
            "display": null,
            "flex": null,
            "flex_flow": null,
            "grid_area": null,
            "grid_auto_columns": null,
            "grid_auto_flow": null,
            "grid_auto_rows": null,
            "grid_column": null,
            "grid_gap": null,
            "grid_row": null,
            "grid_template_areas": null,
            "grid_template_columns": null,
            "grid_template_rows": null,
            "height": null,
            "justify_content": null,
            "justify_items": null,
            "left": null,
            "margin": null,
            "max_height": null,
            "max_width": null,
            "min_height": null,
            "min_width": null,
            "object_fit": null,
            "object_position": null,
            "order": null,
            "overflow": null,
            "overflow_x": null,
            "overflow_y": null,
            "padding": null,
            "right": null,
            "top": null,
            "visibility": null,
            "width": null
          }
        },
        "bef1f8230b124557aab8fe52596ea317": {
          "model_module": "@jupyter-widgets/controls",
          "model_name": "DescriptionStyleModel",
          "model_module_version": "1.5.0",
          "state": {
            "_model_module": "@jupyter-widgets/controls",
            "_model_module_version": "1.5.0",
            "_model_name": "DescriptionStyleModel",
            "_view_count": null,
            "_view_module": "@jupyter-widgets/base",
            "_view_module_version": "1.2.0",
            "_view_name": "StyleView",
            "description_width": ""
          }
        },
        "6716403201164bd4b32c40bb567f2247": {
          "model_module": "@jupyter-widgets/base",
          "model_name": "LayoutModel",
          "model_module_version": "1.2.0",
          "state": {
            "_model_module": "@jupyter-widgets/base",
            "_model_module_version": "1.2.0",
            "_model_name": "LayoutModel",
            "_view_count": null,
            "_view_module": "@jupyter-widgets/base",
            "_view_module_version": "1.2.0",
            "_view_name": "LayoutView",
            "align_content": null,
            "align_items": null,
            "align_self": null,
            "border": null,
            "bottom": null,
            "display": null,
            "flex": null,
            "flex_flow": null,
            "grid_area": null,
            "grid_auto_columns": null,
            "grid_auto_flow": null,
            "grid_auto_rows": null,
            "grid_column": null,
            "grid_gap": null,
            "grid_row": null,
            "grid_template_areas": null,
            "grid_template_columns": null,
            "grid_template_rows": null,
            "height": null,
            "justify_content": null,
            "justify_items": null,
            "left": null,
            "margin": null,
            "max_height": null,
            "max_width": null,
            "min_height": null,
            "min_width": null,
            "object_fit": null,
            "object_position": null,
            "order": null,
            "overflow": null,
            "overflow_x": null,
            "overflow_y": null,
            "padding": null,
            "right": null,
            "top": null,
            "visibility": null,
            "width": null
          }
        },
        "d522cbac2df8426aa100ab31e21585e4": {
          "model_module": "@jupyter-widgets/controls",
          "model_name": "ProgressStyleModel",
          "model_module_version": "1.5.0",
          "state": {
            "_model_module": "@jupyter-widgets/controls",
            "_model_module_version": "1.5.0",
            "_model_name": "ProgressStyleModel",
            "_view_count": null,
            "_view_module": "@jupyter-widgets/base",
            "_view_module_version": "1.2.0",
            "_view_name": "StyleView",
            "bar_color": null,
            "description_width": ""
          }
        },
        "4d23da310edf4178bd72d478779504dc": {
          "model_module": "@jupyter-widgets/base",
          "model_name": "LayoutModel",
          "model_module_version": "1.2.0",
          "state": {
            "_model_module": "@jupyter-widgets/base",
            "_model_module_version": "1.2.0",
            "_model_name": "LayoutModel",
            "_view_count": null,
            "_view_module": "@jupyter-widgets/base",
            "_view_module_version": "1.2.0",
            "_view_name": "LayoutView",
            "align_content": null,
            "align_items": null,
            "align_self": null,
            "border": null,
            "bottom": null,
            "display": null,
            "flex": null,
            "flex_flow": null,
            "grid_area": null,
            "grid_auto_columns": null,
            "grid_auto_flow": null,
            "grid_auto_rows": null,
            "grid_column": null,
            "grid_gap": null,
            "grid_row": null,
            "grid_template_areas": null,
            "grid_template_columns": null,
            "grid_template_rows": null,
            "height": null,
            "justify_content": null,
            "justify_items": null,
            "left": null,
            "margin": null,
            "max_height": null,
            "max_width": null,
            "min_height": null,
            "min_width": null,
            "object_fit": null,
            "object_position": null,
            "order": null,
            "overflow": null,
            "overflow_x": null,
            "overflow_y": null,
            "padding": null,
            "right": null,
            "top": null,
            "visibility": null,
            "width": null
          }
        },
        "cde7eb44fe124eeab84804fab3dde835": {
          "model_module": "@jupyter-widgets/controls",
          "model_name": "DescriptionStyleModel",
          "model_module_version": "1.5.0",
          "state": {
            "_model_module": "@jupyter-widgets/controls",
            "_model_module_version": "1.5.0",
            "_model_name": "DescriptionStyleModel",
            "_view_count": null,
            "_view_module": "@jupyter-widgets/base",
            "_view_module_version": "1.2.0",
            "_view_name": "StyleView",
            "description_width": ""
          }
        },
        "0da4c22d1ad84caebe1ebc593836b5cf": {
          "model_module": "@jupyter-widgets/controls",
          "model_name": "HBoxModel",
          "model_module_version": "1.5.0",
          "state": {
            "_dom_classes": [],
            "_model_module": "@jupyter-widgets/controls",
            "_model_module_version": "1.5.0",
            "_model_name": "HBoxModel",
            "_view_count": null,
            "_view_module": "@jupyter-widgets/controls",
            "_view_module_version": "1.5.0",
            "_view_name": "HBoxView",
            "box_style": "",
            "children": [
              "IPY_MODEL_b560f23c48fc4fe2ab9a8c8e6d3bad85",
              "IPY_MODEL_1e9a634de5044a7d9256f7bb796c8eac",
              "IPY_MODEL_20176c78912f4bfaa184d7a50a8096e2"
            ],
            "layout": "IPY_MODEL_b8712d4c962a4ac88b01ad8230e039fd"
          }
        },
        "b560f23c48fc4fe2ab9a8c8e6d3bad85": {
          "model_module": "@jupyter-widgets/controls",
          "model_name": "HTMLModel",
          "model_module_version": "1.5.0",
          "state": {
            "_dom_classes": [],
            "_model_module": "@jupyter-widgets/controls",
            "_model_module_version": "1.5.0",
            "_model_name": "HTMLModel",
            "_view_count": null,
            "_view_module": "@jupyter-widgets/controls",
            "_view_module_version": "1.5.0",
            "_view_name": "HTMLView",
            "description": "",
            "description_tooltip": null,
            "layout": "IPY_MODEL_f2b34c4800c84e589a5c7307004bf3ce",
            "placeholder": "​",
            "style": "IPY_MODEL_4df7b48f8ac445d4a9fdad579ced509e",
            "value": "100%"
          }
        },
        "1e9a634de5044a7d9256f7bb796c8eac": {
          "model_module": "@jupyter-widgets/controls",
          "model_name": "FloatProgressModel",
          "model_module_version": "1.5.0",
          "state": {
            "_dom_classes": [],
            "_model_module": "@jupyter-widgets/controls",
            "_model_module_version": "1.5.0",
            "_model_name": "FloatProgressModel",
            "_view_count": null,
            "_view_module": "@jupyter-widgets/controls",
            "_view_module_version": "1.5.0",
            "_view_name": "ProgressView",
            "bar_style": "success",
            "description": "",
            "description_tooltip": null,
            "layout": "IPY_MODEL_29006fd27e1a4ce9b96ce1879d147e70",
            "max": 28800,
            "min": 0,
            "orientation": "horizontal",
            "style": "IPY_MODEL_92dee600c53942618d331b895f403bbf",
            "value": 28800
          }
        },
        "20176c78912f4bfaa184d7a50a8096e2": {
          "model_module": "@jupyter-widgets/controls",
          "model_name": "HTMLModel",
          "model_module_version": "1.5.0",
          "state": {
            "_dom_classes": [],
            "_model_module": "@jupyter-widgets/controls",
            "_model_module_version": "1.5.0",
            "_model_name": "HTMLModel",
            "_view_count": null,
            "_view_module": "@jupyter-widgets/controls",
            "_view_module_version": "1.5.0",
            "_view_name": "HTMLView",
            "description": "",
            "description_tooltip": null,
            "layout": "IPY_MODEL_0efc784e6c7144cbbae4bd29eb55cc9c",
            "placeholder": "​",
            "style": "IPY_MODEL_d3dba279a1d043cb94d9ba9149d7f85c",
            "value": " 28.1k/28.1k [00:00&lt;00:00, 594kB/s]"
          }
        },
        "b8712d4c962a4ac88b01ad8230e039fd": {
          "model_module": "@jupyter-widgets/base",
          "model_name": "LayoutModel",
          "model_module_version": "1.2.0",
          "state": {
            "_model_module": "@jupyter-widgets/base",
            "_model_module_version": "1.2.0",
            "_model_name": "LayoutModel",
            "_view_count": null,
            "_view_module": "@jupyter-widgets/base",
            "_view_module_version": "1.2.0",
            "_view_name": "LayoutView",
            "align_content": null,
            "align_items": null,
            "align_self": null,
            "border": null,
            "bottom": null,
            "display": null,
            "flex": null,
            "flex_flow": null,
            "grid_area": null,
            "grid_auto_columns": null,
            "grid_auto_flow": null,
            "grid_auto_rows": null,
            "grid_column": null,
            "grid_gap": null,
            "grid_row": null,
            "grid_template_areas": null,
            "grid_template_columns": null,
            "grid_template_rows": null,
            "height": null,
            "justify_content": null,
            "justify_items": null,
            "left": null,
            "margin": null,
            "max_height": null,
            "max_width": null,
            "min_height": null,
            "min_width": null,
            "object_fit": null,
            "object_position": null,
            "order": null,
            "overflow": null,
            "overflow_x": null,
            "overflow_y": null,
            "padding": null,
            "right": null,
            "top": null,
            "visibility": null,
            "width": null
          }
        },
        "f2b34c4800c84e589a5c7307004bf3ce": {
          "model_module": "@jupyter-widgets/base",
          "model_name": "LayoutModel",
          "model_module_version": "1.2.0",
          "state": {
            "_model_module": "@jupyter-widgets/base",
            "_model_module_version": "1.2.0",
            "_model_name": "LayoutModel",
            "_view_count": null,
            "_view_module": "@jupyter-widgets/base",
            "_view_module_version": "1.2.0",
            "_view_name": "LayoutView",
            "align_content": null,
            "align_items": null,
            "align_self": null,
            "border": null,
            "bottom": null,
            "display": null,
            "flex": null,
            "flex_flow": null,
            "grid_area": null,
            "grid_auto_columns": null,
            "grid_auto_flow": null,
            "grid_auto_rows": null,
            "grid_column": null,
            "grid_gap": null,
            "grid_row": null,
            "grid_template_areas": null,
            "grid_template_columns": null,
            "grid_template_rows": null,
            "height": null,
            "justify_content": null,
            "justify_items": null,
            "left": null,
            "margin": null,
            "max_height": null,
            "max_width": null,
            "min_height": null,
            "min_width": null,
            "object_fit": null,
            "object_position": null,
            "order": null,
            "overflow": null,
            "overflow_x": null,
            "overflow_y": null,
            "padding": null,
            "right": null,
            "top": null,
            "visibility": null,
            "width": null
          }
        },
        "4df7b48f8ac445d4a9fdad579ced509e": {
          "model_module": "@jupyter-widgets/controls",
          "model_name": "DescriptionStyleModel",
          "model_module_version": "1.5.0",
          "state": {
            "_model_module": "@jupyter-widgets/controls",
            "_model_module_version": "1.5.0",
            "_model_name": "DescriptionStyleModel",
            "_view_count": null,
            "_view_module": "@jupyter-widgets/base",
            "_view_module_version": "1.2.0",
            "_view_name": "StyleView",
            "description_width": ""
          }
        },
        "29006fd27e1a4ce9b96ce1879d147e70": {
          "model_module": "@jupyter-widgets/base",
          "model_name": "LayoutModel",
          "model_module_version": "1.2.0",
          "state": {
            "_model_module": "@jupyter-widgets/base",
            "_model_module_version": "1.2.0",
            "_model_name": "LayoutModel",
            "_view_count": null,
            "_view_module": "@jupyter-widgets/base",
            "_view_module_version": "1.2.0",
            "_view_name": "LayoutView",
            "align_content": null,
            "align_items": null,
            "align_self": null,
            "border": null,
            "bottom": null,
            "display": null,
            "flex": null,
            "flex_flow": null,
            "grid_area": null,
            "grid_auto_columns": null,
            "grid_auto_flow": null,
            "grid_auto_rows": null,
            "grid_column": null,
            "grid_gap": null,
            "grid_row": null,
            "grid_template_areas": null,
            "grid_template_columns": null,
            "grid_template_rows": null,
            "height": null,
            "justify_content": null,
            "justify_items": null,
            "left": null,
            "margin": null,
            "max_height": null,
            "max_width": null,
            "min_height": null,
            "min_width": null,
            "object_fit": null,
            "object_position": null,
            "order": null,
            "overflow": null,
            "overflow_x": null,
            "overflow_y": null,
            "padding": null,
            "right": null,
            "top": null,
            "visibility": null,
            "width": null
          }
        },
        "92dee600c53942618d331b895f403bbf": {
          "model_module": "@jupyter-widgets/controls",
          "model_name": "ProgressStyleModel",
          "model_module_version": "1.5.0",
          "state": {
            "_model_module": "@jupyter-widgets/controls",
            "_model_module_version": "1.5.0",
            "_model_name": "ProgressStyleModel",
            "_view_count": null,
            "_view_module": "@jupyter-widgets/base",
            "_view_module_version": "1.2.0",
            "_view_name": "StyleView",
            "bar_color": null,
            "description_width": ""
          }
        },
        "0efc784e6c7144cbbae4bd29eb55cc9c": {
          "model_module": "@jupyter-widgets/base",
          "model_name": "LayoutModel",
          "model_module_version": "1.2.0",
          "state": {
            "_model_module": "@jupyter-widgets/base",
            "_model_module_version": "1.2.0",
            "_model_name": "LayoutModel",
            "_view_count": null,
            "_view_module": "@jupyter-widgets/base",
            "_view_module_version": "1.2.0",
            "_view_name": "LayoutView",
            "align_content": null,
            "align_items": null,
            "align_self": null,
            "border": null,
            "bottom": null,
            "display": null,
            "flex": null,
            "flex_flow": null,
            "grid_area": null,
            "grid_auto_columns": null,
            "grid_auto_flow": null,
            "grid_auto_rows": null,
            "grid_column": null,
            "grid_gap": null,
            "grid_row": null,
            "grid_template_areas": null,
            "grid_template_columns": null,
            "grid_template_rows": null,
            "height": null,
            "justify_content": null,
            "justify_items": null,
            "left": null,
            "margin": null,
            "max_height": null,
            "max_width": null,
            "min_height": null,
            "min_width": null,
            "object_fit": null,
            "object_position": null,
            "order": null,
            "overflow": null,
            "overflow_x": null,
            "overflow_y": null,
            "padding": null,
            "right": null,
            "top": null,
            "visibility": null,
            "width": null
          }
        },
        "d3dba279a1d043cb94d9ba9149d7f85c": {
          "model_module": "@jupyter-widgets/controls",
          "model_name": "DescriptionStyleModel",
          "model_module_version": "1.5.0",
          "state": {
            "_model_module": "@jupyter-widgets/controls",
            "_model_module_version": "1.5.0",
            "_model_name": "DescriptionStyleModel",
            "_view_count": null,
            "_view_module": "@jupyter-widgets/base",
            "_view_module_version": "1.2.0",
            "_view_name": "StyleView",
            "description_width": ""
          }
        }
      }
    }
  },
  "cells": [
    {
      "cell_type": "markdown",
      "metadata": {
        "id": "view-in-github",
        "colab_type": "text"
      },
      "source": [
        "<a href=\"https://colab.research.google.com/github/ChanduS06/DMP_CRUD_APP/blob/main/Photo_Animation_v0_1.ipynb\" target=\"_parent\"><img src=\"https://colab.research.google.com/assets/colab-badge.svg\" alt=\"Open In Colab\"/></a>"
      ]
    },
    {
      "cell_type": "code",
      "execution_count": 1,
      "metadata": {
        "id": "D4PrqEhv47uz"
      },
      "outputs": [],
      "source": [
        "!pip install ffmpy &> /dev/null\n",
        "!git init -q .\n",
        "!git remote add origin https://github.com/AliaksandrSiarohin/first-order-model\n",
        "!git pull -q origin master\n",
        "!git clone -q https://github.com/graphemecluster/first-order-model-demo demo "
      ]
    },
    {
      "cell_type": "code",
      "source": [
        "!pip install imageio matplotlib numpy pandas python-dateutil pytz PyYAML scikit-image scikit-learn scipy torch torchvision tqdm"
      ],
      "metadata": {
        "colab": {
          "base_uri": "https://localhost:8080/"
        },
        "id": "GBCJEtnF7ZuP",
        "outputId": "f098d84a-b3d9-4379-dc0b-bd60350938c7"
      },
      "execution_count": 2,
      "outputs": [
        {
          "output_type": "stream",
          "name": "stdout",
          "text": [
            "Requirement already satisfied: imageio in /usr/local/lib/python3.7/dist-packages (2.4.1)\n",
            "Requirement already satisfied: matplotlib in /usr/local/lib/python3.7/dist-packages (3.2.2)\n",
            "Requirement already satisfied: numpy in /usr/local/lib/python3.7/dist-packages (1.21.6)\n",
            "Requirement already satisfied: pandas in /usr/local/lib/python3.7/dist-packages (1.3.5)\n",
            "Requirement already satisfied: python-dateutil in /usr/local/lib/python3.7/dist-packages (2.8.2)\n",
            "Requirement already satisfied: pytz in /usr/local/lib/python3.7/dist-packages (2022.1)\n",
            "Requirement already satisfied: PyYAML in /usr/local/lib/python3.7/dist-packages (3.13)\n",
            "Requirement already satisfied: scikit-image in /usr/local/lib/python3.7/dist-packages (0.18.3)\n",
            "Requirement already satisfied: scikit-learn in /usr/local/lib/python3.7/dist-packages (1.0.2)\n",
            "Requirement already satisfied: scipy in /usr/local/lib/python3.7/dist-packages (1.4.1)\n",
            "Requirement already satisfied: torch in /usr/local/lib/python3.7/dist-packages (1.10.0+cu111)\n",
            "Requirement already satisfied: torchvision in /usr/local/lib/python3.7/dist-packages (0.11.1+cu111)\n",
            "Requirement already satisfied: tqdm in /usr/local/lib/python3.7/dist-packages (4.64.0)\n",
            "Requirement already satisfied: pillow in /usr/local/lib/python3.7/dist-packages (from imageio) (7.1.2)\n",
            "Requirement already satisfied: kiwisolver>=1.0.1 in /usr/local/lib/python3.7/dist-packages (from matplotlib) (1.4.2)\n",
            "Requirement already satisfied: pyparsing!=2.0.4,!=2.1.2,!=2.1.6,>=2.0.1 in /usr/local/lib/python3.7/dist-packages (from matplotlib) (3.0.8)\n",
            "Requirement already satisfied: cycler>=0.10 in /usr/local/lib/python3.7/dist-packages (from matplotlib) (0.11.0)\n",
            "Requirement already satisfied: six>=1.5 in /usr/local/lib/python3.7/dist-packages (from python-dateutil) (1.15.0)\n",
            "Requirement already satisfied: typing-extensions in /usr/local/lib/python3.7/dist-packages (from kiwisolver>=1.0.1->matplotlib) (4.1.1)\n",
            "Requirement already satisfied: networkx>=2.0 in /usr/local/lib/python3.7/dist-packages (from scikit-image) (2.6.3)\n",
            "Requirement already satisfied: tifffile>=2019.7.26 in /usr/local/lib/python3.7/dist-packages (from scikit-image) (2021.11.2)\n",
            "Requirement already satisfied: PyWavelets>=1.1.1 in /usr/local/lib/python3.7/dist-packages (from scikit-image) (1.3.0)\n",
            "Requirement already satisfied: joblib>=0.11 in /usr/local/lib/python3.7/dist-packages (from scikit-learn) (1.1.0)\n",
            "Requirement already satisfied: threadpoolctl>=2.0.0 in /usr/local/lib/python3.7/dist-packages (from scikit-learn) (3.1.0)\n"
          ]
        }
      ]
    },
    {
      "cell_type": "code",
      "source": [
        "# !pip install deepface #deepface"
      ],
      "metadata": {
        "colab": {
          "base_uri": "https://localhost:8080/"
        },
        "id": "DsixMfc5dKhv",
        "outputId": "12b5a328-df15-4501-c3e7-bd47e733b394"
      },
      "execution_count": 4,
      "outputs": [
        {
          "output_type": "stream",
          "name": "stdout",
          "text": [
            "Collecting deepface\n",
            "  Downloading deepface-0.0.74-py3-none-any.whl (63 kB)\n",
            "\u001b[?25l\r\u001b[K     |█████▏                          | 10 kB 21.6 MB/s eta 0:00:01\r\u001b[K     |██████████▎                     | 20 kB 18.2 MB/s eta 0:00:01\r\u001b[K     |███████████████▌                | 30 kB 22.0 MB/s eta 0:00:01\r\u001b[K     |████████████████████▋           | 40 kB 12.0 MB/s eta 0:00:01\r\u001b[K     |█████████████████████████▊      | 51 kB 13.4 MB/s eta 0:00:01\r\u001b[K     |███████████████████████████████ | 61 kB 14.2 MB/s eta 0:00:01\r\u001b[K     |████████████████████████████████| 63 kB 1.7 MB/s \n",
            "\u001b[?25hRequirement already satisfied: tensorflow>=1.9.0 in /usr/local/lib/python3.7/dist-packages (from deepface) (2.8.0)\n",
            "Requirement already satisfied: keras>=2.2.0 in /usr/local/lib/python3.7/dist-packages (from deepface) (2.8.0)\n",
            "Requirement already satisfied: Flask>=1.1.2 in /usr/local/lib/python3.7/dist-packages (from deepface) (1.1.4)\n",
            "Collecting mtcnn>=0.1.0\n",
            "  Downloading mtcnn-0.1.1-py3-none-any.whl (2.3 MB)\n",
            "\u001b[K     |████████████████████████████████| 2.3 MB 24.2 MB/s \n",
            "\u001b[?25hRequirement already satisfied: opencv-python>=3.4.4 in /usr/local/lib/python3.7/dist-packages (from deepface) (4.1.2.30)\n",
            "Requirement already satisfied: pandas>=0.23.4 in /usr/local/lib/python3.7/dist-packages (from deepface) (1.3.5)\n",
            "Collecting retina-face>=0.0.1\n",
            "  Downloading retina_face-0.0.10-py3-none-any.whl (15 kB)\n",
            "Requirement already satisfied: tqdm>=4.30.0 in /usr/local/lib/python3.7/dist-packages (from deepface) (4.64.0)\n",
            "Requirement already satisfied: numpy>=1.14.0 in /usr/local/lib/python3.7/dist-packages (from deepface) (1.21.6)\n",
            "Requirement already satisfied: gdown>=3.10.1 in /usr/local/lib/python3.7/dist-packages (from deepface) (4.4.0)\n",
            "Requirement already satisfied: Pillow>=5.2.0 in /usr/local/lib/python3.7/dist-packages (from deepface) (7.1.2)\n",
            "Requirement already satisfied: itsdangerous<2.0,>=0.24 in /usr/local/lib/python3.7/dist-packages (from Flask>=1.1.2->deepface) (1.1.0)\n",
            "Requirement already satisfied: click<8.0,>=5.1 in /usr/local/lib/python3.7/dist-packages (from Flask>=1.1.2->deepface) (7.1.2)\n",
            "Requirement already satisfied: Werkzeug<2.0,>=0.15 in /usr/local/lib/python3.7/dist-packages (from Flask>=1.1.2->deepface) (1.0.1)\n",
            "Requirement already satisfied: Jinja2<3.0,>=2.10.1 in /usr/local/lib/python3.7/dist-packages (from Flask>=1.1.2->deepface) (2.11.3)\n",
            "Requirement already satisfied: beautifulsoup4 in /usr/local/lib/python3.7/dist-packages (from gdown>=3.10.1->deepface) (4.6.3)\n",
            "Requirement already satisfied: filelock in /usr/local/lib/python3.7/dist-packages (from gdown>=3.10.1->deepface) (3.6.0)\n",
            "Requirement already satisfied: six in /usr/local/lib/python3.7/dist-packages (from gdown>=3.10.1->deepface) (1.15.0)\n",
            "Requirement already satisfied: requests[socks] in /usr/local/lib/python3.7/dist-packages (from gdown>=3.10.1->deepface) (2.23.0)\n",
            "Requirement already satisfied: MarkupSafe>=0.23 in /usr/local/lib/python3.7/dist-packages (from Jinja2<3.0,>=2.10.1->Flask>=1.1.2->deepface) (2.0.1)\n",
            "Requirement already satisfied: python-dateutil>=2.7.3 in /usr/local/lib/python3.7/dist-packages (from pandas>=0.23.4->deepface) (2.8.2)\n",
            "Requirement already satisfied: pytz>=2017.3 in /usr/local/lib/python3.7/dist-packages (from pandas>=0.23.4->deepface) (2022.1)\n",
            "Requirement already satisfied: astunparse>=1.6.0 in /usr/local/lib/python3.7/dist-packages (from tensorflow>=1.9.0->deepface) (1.6.3)\n",
            "Requirement already satisfied: libclang>=9.0.1 in /usr/local/lib/python3.7/dist-packages (from tensorflow>=1.9.0->deepface) (13.0.0)\n",
            "Requirement already satisfied: h5py>=2.9.0 in /usr/local/lib/python3.7/dist-packages (from tensorflow>=1.9.0->deepface) (3.1.0)\n",
            "Requirement already satisfied: flatbuffers>=1.12 in /usr/local/lib/python3.7/dist-packages (from tensorflow>=1.9.0->deepface) (2.0)\n",
            "Collecting tf-estimator-nightly==2.8.0.dev2021122109\n",
            "  Downloading tf_estimator_nightly-2.8.0.dev2021122109-py2.py3-none-any.whl (462 kB)\n",
            "\u001b[K     |████████████████████████████████| 462 kB 49.2 MB/s \n",
            "\u001b[?25hRequirement already satisfied: protobuf>=3.9.2 in /usr/local/lib/python3.7/dist-packages (from tensorflow>=1.9.0->deepface) (3.17.3)\n",
            "Requirement already satisfied: setuptools in /usr/local/lib/python3.7/dist-packages (from tensorflow>=1.9.0->deepface) (57.4.0)\n",
            "Requirement already satisfied: tensorboard<2.9,>=2.8 in /usr/local/lib/python3.7/dist-packages (from tensorflow>=1.9.0->deepface) (2.8.0)\n",
            "Requirement already satisfied: opt-einsum>=2.3.2 in /usr/local/lib/python3.7/dist-packages (from tensorflow>=1.9.0->deepface) (3.3.0)\n",
            "Requirement already satisfied: termcolor>=1.1.0 in /usr/local/lib/python3.7/dist-packages (from tensorflow>=1.9.0->deepface) (1.1.0)\n",
            "Requirement already satisfied: wrapt>=1.11.0 in /usr/local/lib/python3.7/dist-packages (from tensorflow>=1.9.0->deepface) (1.14.0)\n",
            "Requirement already satisfied: keras-preprocessing>=1.1.1 in /usr/local/lib/python3.7/dist-packages (from tensorflow>=1.9.0->deepface) (1.1.2)\n",
            "Requirement already satisfied: absl-py>=0.4.0 in /usr/local/lib/python3.7/dist-packages (from tensorflow>=1.9.0->deepface) (1.0.0)\n",
            "Requirement already satisfied: google-pasta>=0.1.1 in /usr/local/lib/python3.7/dist-packages (from tensorflow>=1.9.0->deepface) (0.2.0)\n",
            "Requirement already satisfied: tensorflow-io-gcs-filesystem>=0.23.1 in /usr/local/lib/python3.7/dist-packages (from tensorflow>=1.9.0->deepface) (0.24.0)\n",
            "Requirement already satisfied: grpcio<2.0,>=1.24.3 in /usr/local/lib/python3.7/dist-packages (from tensorflow>=1.9.0->deepface) (1.44.0)\n",
            "Requirement already satisfied: gast>=0.2.1 in /usr/local/lib/python3.7/dist-packages (from tensorflow>=1.9.0->deepface) (0.5.3)\n",
            "Requirement already satisfied: typing-extensions>=3.6.6 in /usr/local/lib/python3.7/dist-packages (from tensorflow>=1.9.0->deepface) (4.1.1)\n",
            "Requirement already satisfied: wheel<1.0,>=0.23.0 in /usr/local/lib/python3.7/dist-packages (from astunparse>=1.6.0->tensorflow>=1.9.0->deepface) (0.37.1)\n",
            "Requirement already satisfied: cached-property in /usr/local/lib/python3.7/dist-packages (from h5py>=2.9.0->tensorflow>=1.9.0->deepface) (1.5.2)\n",
            "Requirement already satisfied: tensorboard-data-server<0.7.0,>=0.6.0 in /usr/local/lib/python3.7/dist-packages (from tensorboard<2.9,>=2.8->tensorflow>=1.9.0->deepface) (0.6.1)\n",
            "Requirement already satisfied: google-auth<3,>=1.6.3 in /usr/local/lib/python3.7/dist-packages (from tensorboard<2.9,>=2.8->tensorflow>=1.9.0->deepface) (1.35.0)\n",
            "Requirement already satisfied: google-auth-oauthlib<0.5,>=0.4.1 in /usr/local/lib/python3.7/dist-packages (from tensorboard<2.9,>=2.8->tensorflow>=1.9.0->deepface) (0.4.6)\n",
            "Requirement already satisfied: markdown>=2.6.8 in /usr/local/lib/python3.7/dist-packages (from tensorboard<2.9,>=2.8->tensorflow>=1.9.0->deepface) (3.3.6)\n",
            "Requirement already satisfied: tensorboard-plugin-wit>=1.6.0 in /usr/local/lib/python3.7/dist-packages (from tensorboard<2.9,>=2.8->tensorflow>=1.9.0->deepface) (1.8.1)\n",
            "Requirement already satisfied: cachetools<5.0,>=2.0.0 in /usr/local/lib/python3.7/dist-packages (from google-auth<3,>=1.6.3->tensorboard<2.9,>=2.8->tensorflow>=1.9.0->deepface) (4.2.4)\n",
            "Requirement already satisfied: pyasn1-modules>=0.2.1 in /usr/local/lib/python3.7/dist-packages (from google-auth<3,>=1.6.3->tensorboard<2.9,>=2.8->tensorflow>=1.9.0->deepface) (0.2.8)\n",
            "Requirement already satisfied: rsa<5,>=3.1.4 in /usr/local/lib/python3.7/dist-packages (from google-auth<3,>=1.6.3->tensorboard<2.9,>=2.8->tensorflow>=1.9.0->deepface) (4.8)\n",
            "Requirement already satisfied: requests-oauthlib>=0.7.0 in /usr/local/lib/python3.7/dist-packages (from google-auth-oauthlib<0.5,>=0.4.1->tensorboard<2.9,>=2.8->tensorflow>=1.9.0->deepface) (1.3.1)\n",
            "Requirement already satisfied: importlib-metadata>=4.4 in /usr/local/lib/python3.7/dist-packages (from markdown>=2.6.8->tensorboard<2.9,>=2.8->tensorflow>=1.9.0->deepface) (4.11.3)\n",
            "Requirement already satisfied: zipp>=0.5 in /usr/local/lib/python3.7/dist-packages (from importlib-metadata>=4.4->markdown>=2.6.8->tensorboard<2.9,>=2.8->tensorflow>=1.9.0->deepface) (3.8.0)\n",
            "Requirement already satisfied: pyasn1<0.5.0,>=0.4.6 in /usr/local/lib/python3.7/dist-packages (from pyasn1-modules>=0.2.1->google-auth<3,>=1.6.3->tensorboard<2.9,>=2.8->tensorflow>=1.9.0->deepface) (0.4.8)\n",
            "Requirement already satisfied: chardet<4,>=3.0.2 in /usr/local/lib/python3.7/dist-packages (from requests[socks]->gdown>=3.10.1->deepface) (3.0.4)\n",
            "Requirement already satisfied: certifi>=2017.4.17 in /usr/local/lib/python3.7/dist-packages (from requests[socks]->gdown>=3.10.1->deepface) (2021.10.8)\n",
            "Requirement already satisfied: idna<3,>=2.5 in /usr/local/lib/python3.7/dist-packages (from requests[socks]->gdown>=3.10.1->deepface) (2.10)\n",
            "Requirement already satisfied: urllib3!=1.25.0,!=1.25.1,<1.26,>=1.21.1 in /usr/local/lib/python3.7/dist-packages (from requests[socks]->gdown>=3.10.1->deepface) (1.24.3)\n",
            "Requirement already satisfied: oauthlib>=3.0.0 in /usr/local/lib/python3.7/dist-packages (from requests-oauthlib>=0.7.0->google-auth-oauthlib<0.5,>=0.4.1->tensorboard<2.9,>=2.8->tensorflow>=1.9.0->deepface) (3.2.0)\n",
            "Requirement already satisfied: PySocks!=1.5.7,>=1.5.6 in /usr/local/lib/python3.7/dist-packages (from requests[socks]->gdown>=3.10.1->deepface) (1.7.1)\n",
            "Installing collected packages: tf-estimator-nightly, retina-face, mtcnn, deepface\n",
            "Successfully installed deepface-0.0.74 mtcnn-0.1.1 retina-face-0.0.10 tf-estimator-nightly-2.8.0.dev2021122109\n"
          ]
        }
      ]
    },
    {
      "cell_type": "code",
      "source": [
        "# !sudo apt update"
      ],
      "metadata": {
        "id": "m_ADLlmL7bMU"
      },
      "execution_count": 3,
      "outputs": []
    },
    {
      "cell_type": "code",
      "source": [
        "# !sudo apt install apt-transport-https ca-certificates curl software-properties-common\n",
        "# !curl -fsSL https://download.docker.com/linux/ubuntu/gpg | sudo apt-key add -\n",
        "# !sudo add-apt-repository \"deb [arch=amd64] https://download.docker.com/linux/ubuntu bionic stable\"\n",
        "# !sudo apt update\n",
        "# !sudo apt install docker-ce"
      ],
      "metadata": {
        "id": "EKjEtIp-7jN2"
      },
      "execution_count": 4,
      "outputs": []
    },
    {
      "cell_type": "code",
      "source": [
        "# !docker build -t first-order-model ."
      ],
      "metadata": {
        "id": "oyzRFvwd9km5"
      },
      "execution_count": 5,
      "outputs": []
    },
    {
      "cell_type": "code",
      "source": [
        "# !gdown --id 1_v_xW1V52gZCZnXgh1Ap_gwA9YVIzUnS ## drive containing vox-cpk.pth.tar\n",
        "# !gzip vox-cpk.pth.tar\n",
        "\n",
        "!gdown --id 1YgqCAPEcrX9fvvqcPlO4b6WecTqZW_MA ## drive containing Nikita provided videos"
      ],
      "metadata": {
        "colab": {
          "base_uri": "https://localhost:8080/"
        },
        "id": "Ql2YvgTh-z9Y",
        "outputId": "6ac7942a-6c62-4c41-d3ff-5105557a30bd"
      },
      "execution_count": 67,
      "outputs": [
        {
          "output_type": "stream",
          "name": "stdout",
          "text": [
            "/usr/local/lib/python3.7/dist-packages/gdown/cli.py:131: FutureWarning: Option `--id` was deprecated in version 4.3.1 and will be removed in 5.0. You don't need to pass it anymore to use a file ID.\n",
            "  category=FutureWarning,\n",
            "Downloading...\n",
            "From: https://drive.google.com/uc?id=1YgqCAPEcrX9fvvqcPlO4b6WecTqZW_MA\n",
            "To: /content/pose-evaluation/archive.zip\n",
            "100% 772M/772M [00:04<00:00, 184MB/s]\n"
          ]
        }
      ]
    },
    {
      "cell_type": "code",
      "source": [
        "# !mkdir -p data/vox-png ## required as vox-256.yaml contains data/vox-png as root_dir"
      ],
      "metadata": {
        "id": "luBY8cVcCkuu"
      },
      "execution_count": 6,
      "outputs": []
    },
    {
      "cell_type": "markdown",
      "source": [
        ""
      ],
      "metadata": {
        "id": "dXUrgAJKDqa9"
      }
    },
    {
      "cell_type": "code",
      "source": [
        "# !CUDA_VISIBLE_DEVICES=0 python run.py --config config/vox-256.yaml --mode reconstruction --checkpoint vox-cpk.pth.tar"
      ],
      "metadata": {
        "colab": {
          "base_uri": "https://localhost:8080/"
        },
        "id": "WKL-VNiF9spJ",
        "outputId": "50ac1b47-3674-4ffe-dc35-e45f12c924ff"
      },
      "execution_count": 31,
      "outputs": [
        {
          "output_type": "stream",
          "name": "stdout",
          "text": [
            "/usr/local/lib/python3.7/dist-packages/torch/functional.py:445: UserWarning: torch.meshgrid: in an upcoming release, it will be required to pass the indexing argument. (Triggered internally at  ../aten/src/ATen/native/TensorShape.cpp:2157.)\n",
            "  return _VF.meshgrid(tensors, **kwargs)  # type: ignore[attr-defined]\n",
            "Use random train-test split.\n",
            "Traceback (most recent call last):\n",
            "  File \"run.py\", line 72, in <module>\n",
            "    dataset = FramesDataset(is_train=(opt.mode == 'train'), **config['dataset_params'])\n",
            "  File \"/content/frames_dataset.py\", line 83, in __init__\n",
            "    train_videos, test_videos = train_test_split(self.videos, random_state=random_seed, test_size=0.2)\n",
            "  File \"/usr/local/lib/python3.7/dist-packages/sklearn/model_selection/_split.py\", line 2421, in train_test_split\n",
            "    n_samples, test_size, train_size, default_test_size=0.25\n",
            "  File \"/usr/local/lib/python3.7/dist-packages/sklearn/model_selection/_split.py\", line 2101, in _validate_shuffle_split\n",
            "    \"aforementioned parameters.\".format(n_samples, test_size, train_size)\n",
            "ValueError: With n_samples=0, test_size=0.2 and train_size=None, the resulting train set will be empty. Adjust any of the aforementioned parameters.\n"
          ]
        }
      ]
    },
    {
      "cell_type": "code",
      "source": [
        "import os, requests, numpy\n",
        "import imageio\n",
        "import IPython.display\n",
        "import PIL.Image\n",
        "import cv2\n",
        "import imageio\n",
        "import io\n",
        "import ipywidgets\n",
        "import os.path\n",
        "import requests\n",
        "import skimage.transform\n",
        "import warnings\n",
        "from demo import load_checkpoints, make_animation\n",
        "from ffmpy import FFmpeg\n",
        "from skimage import img_as_ubyte\n",
        "import skimage.transform"
      ],
      "metadata": {
        "id": "WgWfqq12Qat8"
      },
      "execution_count": 7,
      "outputs": []
    },
    {
      "cell_type": "code",
      "source": [
        "!git clone -q https://github.com/ChanduS06/dataset-generic Emotions-dir"
      ],
      "metadata": {
        "id": "2XGwcOOeQ_Pv"
      },
      "execution_count": 8,
      "outputs": []
    },
    {
      "cell_type": "code",
      "source": [
        "# method to feed/resize image with aspired dimensions\n",
        "def resize(image, size=(256, 256)):\n",
        "    w, h = image.size\n",
        "    d = min(w, h)\n",
        "    r = ((w - d) // 2, (h - d) // 2, (w + d) // 2, (h + d) // 2)\n",
        "    return image.resize(size, resample=PIL.Image.LANCZOS, box=r)"
      ],
      "metadata": {
        "id": "ZRo3neMBaGaF"
      },
      "execution_count": 62,
      "outputs": []
    },
    {
      "cell_type": "code",
      "source": [
        "# miscallaneous testing on einstein image\n",
        "from google.colab import files as FILE\n",
        "import os\n",
        "\n",
        "img_data = requests.get(\"https://encrypted-tbn0.gstatic.com/images?q=tbn:ANd9GcSa1INgadp1f7fPVyip1SJ4Z4nJRO6L6ZarPRK1UeZEhPHnegTEK8-v6st82lDk1XO5D3M&usqp=CAU\").content\n",
        "with open('/content/Emotions-dir/Images/einstein.png', 'wb') as handler:\n",
        "    handler.write(img_data)\n",
        "\n",
        "img_data_m_obama = requests.get(\"https://aisrtl-a.akamaihd.net/themenarchiv/michelle-obama-bilder/3-1e1eaqaq/300x0/2781/michelle-obama-t4139.jpg\").content\n",
        "with open('m_obama.jpg', 'wb') as handler:\n",
        "    handler.write(img_data_m_obama)\n",
        "\n",
        "selected_image = resize(PIL.Image.open('einstein.png').convert(\"RGB\")) "
      ],
      "metadata": {
        "id": "hcGQ9fYuSTSI"
      },
      "execution_count": 10,
      "outputs": []
    },
    {
      "cell_type": "code",
      "source": [
        "selected_video = \"Emotions-dir/Emotions-dir/Angry/Female/W025_light_uniform_angry_camera_front.mp4\""
      ],
      "metadata": {
        "id": "ybsJ1EXwcZmm"
      },
      "execution_count": 11,
      "outputs": []
    },
    {
      "cell_type": "code",
      "source": [
        "# For Deepface verification method only\n",
        "# from deepface import DeepFace\n",
        "\n",
        "# metrics = [\"cosine\", \"euclidean\", \"euclidean_l2\"]"
      ],
      "metadata": {
        "id": "_OdbzThQeCIA"
      },
      "execution_count": 68,
      "outputs": []
    },
    {
      "cell_type": "code",
      "source": [
        "# # for Face-alignment verification only\n",
        "# import face_alignment\n",
        "\n",
        "# # sfd for SFD, dlib for Dlib and folder for existing bounding boxes.\n",
        "# fa = face_alignment.FaceAlignment(face_alignment.LandmarksType._2D, face_detector='sfd')"
      ],
      "metadata": {
        "id": "dPP1-DPohcwB"
      },
      "execution_count": 69,
      "outputs": []
    },
    {
      "cell_type": "code",
      "source": [
        "# default model and checkpoint chosen: VOX. Other model if required can be changed here\n",
        "os.makedirs(\"user\", exist_ok=True)\n",
        "filename = 'vox-cpk.pth.tar' #model.value + ('' if model.value == 'fashion' else '-cpk') + '.pth.tar'\n",
        "download = requests.get(requests.get('https://cloud-api.yandex.net/v1/disk/public/resources/download?public_key=https://yadi.sk/d/lEw8uRm140L_eQ&path=/' + filename).json().get('href'))\n",
        "if not os.path.isfile(filename):\n",
        "\t\twith open(filename, 'wb') as checkpoint:\n",
        "\t\t\tcheckpoint.write(download.content)"
      ],
      "metadata": {
        "id": "9OTLnwPq4wKE"
      },
      "execution_count": 14,
      "outputs": []
    },
    {
      "cell_type": "code",
      "source": [
        "def perform_animation(download, filename):\n",
        "\treader = imageio.get_reader(selected_video, mode='I', format='FFMPEG')\n",
        "\tfps = reader.get_meta_data()['fps']\n",
        "\tdriving_video = []\n",
        "\tfor frame in reader:\n",
        "\t\tdriving_video.append(frame)\n",
        "\tgenerator, kp_detector = load_checkpoints(config_path='config/vox-256.yaml', checkpoint_path=filename)\n",
        "\tpredictions = make_animation(\n",
        "\t\tskimage.transform.resize(numpy.asarray(selected_image), (256, 256)),\n",
        "\t\t[skimage.transform.resize(frame, (256, 256)) for frame in driving_video],\n",
        "\t\tgenerator,\n",
        "\t\tkp_detector,\n",
        "\t\trelative=True,\n",
        "\t\tadapt_movement_scale=False\n",
        "\t)\n",
        "\tif selected_video.startswith('user/') or selected_video == 'demo/videos/0.mp4':\n",
        "\t\timageio.mimsave('temp.mp4', [img_as_ubyte(frame) for frame in predictions], fps=fps)\n",
        "\t\tFFmpeg(inputs={'temp.mp4': None, selected_video: None}, outputs={'output.mp4': '-c copy -y'}).run()\n",
        "\telse:\n",
        "\t\timageio.mimsave('output.mp4', [img_as_ubyte(frame) for frame in predictions], fps=fps)\n",
        "\n",
        "perform_animation(download=download, filename=filename)"
      ],
      "metadata": {
        "colab": {
          "base_uri": "https://localhost:8080/"
        },
        "id": "6vM1_Dm7-Edt",
        "outputId": "6144fa50-e8f0-4ab5-fa79-0e6d7a8d759f"
      },
      "execution_count": 15,
      "outputs": [
        {
          "output_type": "stream",
          "name": "stderr",
          "text": [
            "100%|██████████| 240/240 [00:33<00:00,  7.18it/s]\n"
          ]
        }
      ]
    },
    {
      "cell_type": "code",
      "source": [
        "import face_alignment\n",
        "import cv2\n",
        "import numpy as np\n",
        "import torch\n",
        "import matplotlib.pyplot as plt"
      ],
      "metadata": {
        "id": "OkLSCgRhWell"
      },
      "execution_count": 16,
      "outputs": []
    },
    {
      "cell_type": "code",
      "source": [
        "cap = cv2.VideoCapture('output.mp4')\n",
        "frames = []\n",
        "while True:\n",
        "    success, frame = cap.read()\n",
        "    if not success:\n",
        "        break\n",
        "    \n",
        "    frame = cv2.cvtColor(frame, cv2.COLOR_BGR2RGB)\n",
        "    frames.append(frame)"
      ],
      "metadata": {
        "id": "bJV9gtf25hoV"
      },
      "execution_count": 17,
      "outputs": []
    },
    {
      "cell_type": "code",
      "source": [
        "fa = face_alignment.FaceAlignment(face_alignment.LandmarksType._2D, device='cpu', face_detector='blazeface')"
      ],
      "metadata": {
        "colab": {
          "base_uri": "https://localhost:8080/",
          "height": 138,
          "referenced_widgets": [
            "e2f5990212df40eea8ca252762498bae",
            "de5445798d714f18bfc70f0efdfeeb82",
            "8e4ef2190a3a47279658394081e85310",
            "1911bdae5b734486bf27cd103e78cc10",
            "9678b511330845dbbb1576a32c0b4264",
            "3a89b543cd6a4992bd218b245fca729c",
            "bef1f8230b124557aab8fe52596ea317",
            "6716403201164bd4b32c40bb567f2247",
            "d522cbac2df8426aa100ab31e21585e4",
            "4d23da310edf4178bd72d478779504dc",
            "cde7eb44fe124eeab84804fab3dde835",
            "0da4c22d1ad84caebe1ebc593836b5cf",
            "b560f23c48fc4fe2ab9a8c8e6d3bad85",
            "1e9a634de5044a7d9256f7bb796c8eac",
            "20176c78912f4bfaa184d7a50a8096e2",
            "b8712d4c962a4ac88b01ad8230e039fd",
            "f2b34c4800c84e589a5c7307004bf3ce",
            "4df7b48f8ac445d4a9fdad579ced509e",
            "29006fd27e1a4ce9b96ce1879d147e70",
            "92dee600c53942618d331b895f403bbf",
            "0efc784e6c7144cbbae4bd29eb55cc9c",
            "d3dba279a1d043cb94d9ba9149d7f85c"
          ]
        },
        "id": "xIzYaJmf5nZ5",
        "outputId": "34764a7d-f31a-46a3-bf73-ed4c278348e4"
      },
      "execution_count": 18,
      "outputs": [
        {
          "output_type": "stream",
          "name": "stderr",
          "text": [
            "Downloading: \"https://github.com/hollance/BlazeFace-PyTorch/blob/master/blazeface.pth?raw=true\" to /root/.cache/torch/hub/checkpoints/blazeface.pth\n"
          ]
        },
        {
          "output_type": "display_data",
          "data": {
            "text/plain": [
              "  0%|          | 0.00/410k [00:00<?, ?B/s]"
            ],
            "application/vnd.jupyter.widget-view+json": {
              "version_major": 2,
              "version_minor": 0,
              "model_id": "e2f5990212df40eea8ca252762498bae"
            }
          },
          "metadata": {}
        },
        {
          "output_type": "stream",
          "name": "stderr",
          "text": [
            "Downloading: \"https://github.com/hollance/BlazeFace-PyTorch/blob/master/anchors.npy?raw=true\" to /root/.cache/torch/hub/checkpoints/anchors.npy\n"
          ]
        },
        {
          "output_type": "display_data",
          "data": {
            "text/plain": [
              "  0%|          | 0.00/28.1k [00:00<?, ?B/s]"
            ],
            "application/vnd.jupyter.widget-view+json": {
              "version_major": 2,
              "version_minor": 0,
              "model_id": "0da4c22d1ad84caebe1ebc593836b5cf"
            }
          },
          "metadata": {}
        }
      ]
    },
    {
      "cell_type": "code",
      "source": [
        "import time\n",
        "t_start = time.time()\n",
        "preds = fa.get_landmarks_from_image(frames[0])\n",
        "print(f'BlazeFace: Execution time for a single image: {time.time() - t_start}')\n"
      ],
      "metadata": {
        "colab": {
          "base_uri": "https://localhost:8080/"
        },
        "id": "OQ0pYHSF5ppz",
        "outputId": "cfa7acb8-b0da-49fd-ff14-e3e1c659b687"
      },
      "execution_count": 20,
      "outputs": [
        {
          "output_type": "stream",
          "name": "stdout",
          "text": [
            "BlazeFace: Execution time for a single image: 6.867302417755127\n"
          ]
        }
      ]
    },
    {
      "cell_type": "code",
      "source": [
        "plt.imshow(frames[0])\n",
        "for detection in preds:\n",
        "    plt.scatter(detection[:,0], detection[:,1], 2)"
      ],
      "metadata": {
        "id": "oH8eha8n6G01"
      },
      "execution_count": 30,
      "outputs": []
    },
    {
      "cell_type": "code",
      "source": [
        "batch = np.stack(frames)\n",
        "batch = batch.transpose(0, 3, 1, 2)\n",
        "batch = torch.Tensor(batch[:2])\n",
        "t_start = time.time()\n",
        "preds = fa.get_landmarks_from_batch(batch)\n",
        "print(f'BlazeFace: Execution time for a batch of 2 images: {time.time() - t_start}')"
      ],
      "metadata": {
        "colab": {
          "base_uri": "https://localhost:8080/"
        },
        "id": "piWMEJLy6Q8h",
        "outputId": "e4eec6cc-d530-4a82-b70c-245a5dcec9f4"
      },
      "execution_count": 25,
      "outputs": [
        {
          "output_type": "stream",
          "name": "stdout",
          "text": [
            "BlazeFace: Execution time for a batch of 2 images: 1.9059646129608154\n"
          ]
        }
      ]
    },
    {
      "cell_type": "code",
      "source": [
        "fig = plt.figure(figsize=(10, 25))\n",
        "\n",
        "for i, pred in enumerate(preds):\n",
        "    plt.subplot(5, 2, i + 1)\n",
        "    plt.imshow(frames[i])\n",
        "    plt.title(f'frame[{i}]')\n",
        "    for detection in pred:\n",
        "        plt.scatter(detection[:,0], detection[:,1], 2)"
      ],
      "metadata": {
        "colab": {
          "base_uri": "https://localhost:8080/",
          "height": 212
        },
        "id": "iQBOE0336TK3",
        "outputId": "e57f58ed-fbf1-408e-d1e1-f1c13009c9fb"
      },
      "execution_count": 29,
      "outputs": [
        {
          "output_type": "error",
          "ename": "IndexError",
          "evalue": "ignored",
          "traceback": [
            "\u001b[0;31m---------------------------------------------------------------------------\u001b[0m",
            "\u001b[0;31mIndexError\u001b[0m                                Traceback (most recent call last)",
            "\u001b[0;32m<ipython-input-29-2e48971af7de>\u001b[0m in \u001b[0;36m<module>\u001b[0;34m()\u001b[0m\n\u001b[1;32m      6\u001b[0m     \u001b[0mplt\u001b[0m\u001b[0;34m.\u001b[0m\u001b[0mtitle\u001b[0m\u001b[0;34m(\u001b[0m\u001b[0;34mf'frame[{i}]'\u001b[0m\u001b[0;34m)\u001b[0m\u001b[0;34m\u001b[0m\u001b[0;34m\u001b[0m\u001b[0m\n\u001b[1;32m      7\u001b[0m     \u001b[0;32mfor\u001b[0m \u001b[0mdetection\u001b[0m \u001b[0;32min\u001b[0m \u001b[0mpred\u001b[0m\u001b[0;34m:\u001b[0m\u001b[0;34m\u001b[0m\u001b[0;34m\u001b[0m\u001b[0m\n\u001b[0;32m----> 8\u001b[0;31m         \u001b[0mplt\u001b[0m\u001b[0;34m.\u001b[0m\u001b[0mscatter\u001b[0m\u001b[0;34m(\u001b[0m\u001b[0mdetection\u001b[0m\u001b[0;34m[\u001b[0m\u001b[0;34m:\u001b[0m\u001b[0;34m,\u001b[0m\u001b[0;36m0\u001b[0m\u001b[0;34m]\u001b[0m\u001b[0;34m,\u001b[0m \u001b[0mdetection\u001b[0m\u001b[0;34m[\u001b[0m\u001b[0;34m:\u001b[0m\u001b[0;34m,\u001b[0m\u001b[0;36m1\u001b[0m\u001b[0;34m]\u001b[0m\u001b[0;34m,\u001b[0m \u001b[0;36m2\u001b[0m\u001b[0;34m)\u001b[0m\u001b[0;34m\u001b[0m\u001b[0;34m\u001b[0m\u001b[0m\n\u001b[0m",
            "\u001b[0;31mIndexError\u001b[0m: too many indices for array: array is 1-dimensional, but 2 were indexed"
          ]
        }
      ]
    },
    {
      "cell_type": "code",
      "source": [
        "!git clone --recursive https://github.com/AliaksandrSiarohin/pose-evaluation"
      ],
      "metadata": {
        "colab": {
          "base_uri": "https://localhost:8080/"
        },
        "id": "G35IxRzP7NgE",
        "outputId": "8e81963c-30ef-4580-cea9-f5e5b9f3e847"
      },
      "execution_count": 32,
      "outputs": [
        {
          "output_type": "stream",
          "name": "stdout",
          "text": [
            "Cloning into 'pose-evaluation'...\n",
            "remote: Enumerating objects: 55, done.\u001b[K\n",
            "remote: Counting objects: 100% (23/23), done.\u001b[K\n",
            "remote: Compressing objects: 100% (14/14), done.\u001b[K\n",
            "remote: Total 55 (delta 17), reused 9 (delta 9), pack-reused 32\u001b[K\n",
            "Unpacking objects: 100% (55/55), done.\n",
            "Submodule 'OpenFacePytorch' (https://github.com/thnkim/OpenFacePytorch) registered for path 'OpenFacePytorch'\n",
            "Submodule 'face-alignment' (https://github.com/1adrianb/face-alignment) registered for path 'face-alignment'\n",
            "Submodule 'pose_estimation' (https://github.com/AliaksandrSiarohin/pytorch_Realtime_Multi-Person_Pose_Estimation) registered for path 'pose_estimation'\n",
            "Submodule 'reid_baseline' (https://github.com/layumi/Person_reID_baseline_pytorch) registered for path 'reid_baseline'\n",
            "Cloning into '/content/pose-evaluation/OpenFacePytorch'...\n",
            "remote: Enumerating objects: 56, done.        \n",
            "remote: Total 56 (delta 0), reused 0 (delta 0), pack-reused 56        \n",
            "Cloning into '/content/pose-evaluation/face-alignment'...\n",
            "remote: Enumerating objects: 1026, done.        \n",
            "remote: Counting objects: 100% (57/57), done.        \n",
            "remote: Compressing objects: 100% (43/43), done.        \n",
            "remote: Total 1026 (delta 24), reused 34 (delta 13), pack-reused 969        \n",
            "Receiving objects: 100% (1026/1026), 5.26 MiB | 27.07 MiB/s, done.\n",
            "Resolving deltas: 100% (625/625), done.\n",
            "Cloning into '/content/pose-evaluation/pose_estimation'...\n",
            "remote: Enumerating objects: 547, done.        \n",
            "remote: Total 547 (delta 0), reused 0 (delta 0), pack-reused 547        \n",
            "Receiving objects: 100% (547/547), 209.74 MiB | 28.47 MiB/s, done.\n",
            "Resolving deltas: 100% (308/308), done.\n",
            "Cloning into '/content/pose-evaluation/reid_baseline'...\n",
            "remote: Enumerating objects: 1699, done.        \n",
            "remote: Counting objects: 100% (584/584), done.        \n",
            "remote: Compressing objects: 100% (494/494), done.        \n",
            "remote: Total 1699 (delta 333), reused 153 (delta 72), pack-reused 1115        \n",
            "Receiving objects: 100% (1699/1699), 53.53 MiB | 11.24 MiB/s, done.\n",
            "Resolving deltas: 100% (979/979), done.\n",
            "Submodule path 'OpenFacePytorch': checked out 'd00221832413e86b5608ca791c956b7949479627'\n",
            "Submodule path 'face-alignment': checked out '3750f83b4d7bf3f4ba6318e40a4292e1aeb241a4'\n",
            "Submodule path 'pose_estimation': checked out '257d8b4f2bd6b050f8f0ee580f02fb2ba96d3611'\n",
            "Submodule path 'reid_baseline': checked out '2a5a656f46c35aeb201ab8c3892445ceeb5d5c9d'\n"
          ]
        }
      ]
    },
    {
      "cell_type": "code",
      "source": [
        "!git clone https://github.com/1adrianb/face-alignment face-alignment"
      ],
      "metadata": {
        "colab": {
          "base_uri": "https://localhost:8080/"
        },
        "id": "6VEsNnZH9zAV",
        "outputId": "46af638e-5259-44e6-df3e-8e133283124e"
      },
      "execution_count": 34,
      "outputs": [
        {
          "output_type": "stream",
          "name": "stdout",
          "text": [
            "Cloning into 'face-alignment'...\n",
            "remote: Enumerating objects: 1026, done.\u001b[K\n",
            "remote: Counting objects: 100% (57/57), done.\u001b[K\n",
            "remote: Compressing objects: 100% (43/43), done.\u001b[K\n",
            "remote: Total 1026 (delta 24), reused 34 (delta 13), pack-reused 969\u001b[K\n",
            "Receiving objects: 100% (1026/1026), 5.26 MiB | 15.22 MiB/s, done.\n",
            "Resolving deltas: 100% (625/625), done.\n"
          ]
        }
      ]
    },
    {
      "cell_type": "code",
      "source": [
        "cd pose-evaluation/face-alignment"
      ],
      "metadata": {
        "colab": {
          "base_uri": "https://localhost:8080/"
        },
        "id": "lGVdM-hL-BN9",
        "outputId": "18bf23c0-dd78-444d-d2ba-44bc60b72604"
      },
      "execution_count": 42,
      "outputs": [
        {
          "output_type": "stream",
          "name": "stdout",
          "text": [
            "/content/pose-evaluation/face-alignment\n"
          ]
        }
      ]
    },
    {
      "cell_type": "code",
      "source": [
        "!pip install opencv-python scipy>=0.17.0 scikit-image\n",
        "!python setup.py install"
      ],
      "metadata": {
        "colab": {
          "base_uri": "https://localhost:8080/"
        },
        "id": "Owk_WNhv8p2c",
        "outputId": "7541bad3-d692-4cfb-8f33-477bd0d5a52f"
      },
      "execution_count": 43,
      "outputs": [
        {
          "output_type": "stream",
          "name": "stdout",
          "text": [
            "/usr/local/lib/python3.7/dist-packages/setuptools/dist.py:700: UserWarning: Usage of dash-separated 'description-file' will not be supported in future versions. Please use the underscore name 'description_file' instead\n",
            "  % (opt, underscore_opt))\n",
            "running install\n",
            "running bdist_egg\n",
            "running egg_info\n",
            "creating face_alignment.egg-info\n",
            "writing face_alignment.egg-info/PKG-INFO\n",
            "writing dependency_links to face_alignment.egg-info/dependency_links.txt\n",
            "writing requirements to face_alignment.egg-info/requires.txt\n",
            "writing top-level names to face_alignment.egg-info/top_level.txt\n",
            "writing manifest file 'face_alignment.egg-info/SOURCES.txt'\n",
            "adding license file 'LICENSE'\n",
            "writing manifest file 'face_alignment.egg-info/SOURCES.txt'\n",
            "installing library code to build/bdist.linux-x86_64/egg\n",
            "running install_lib\n",
            "running build_py\n",
            "creating build\n",
            "creating build/lib\n",
            "creating build/lib/face_alignment\n",
            "copying face_alignment/utils.py -> build/lib/face_alignment\n",
            "copying face_alignment/api.py -> build/lib/face_alignment\n",
            "copying face_alignment/__init__.py -> build/lib/face_alignment\n",
            "copying face_alignment/models.py -> build/lib/face_alignment\n",
            "creating build/lib/face_alignment/detection\n",
            "copying face_alignment/detection/core.py -> build/lib/face_alignment/detection\n",
            "copying face_alignment/detection/__init__.py -> build/lib/face_alignment/detection\n",
            "creating build/lib/face_alignment/detection/dlib\n",
            "copying face_alignment/detection/dlib/dlib_detector.py -> build/lib/face_alignment/detection/dlib\n",
            "copying face_alignment/detection/dlib/__init__.py -> build/lib/face_alignment/detection/dlib\n",
            "creating build/lib/face_alignment/detection/sfd\n",
            "copying face_alignment/detection/sfd/bbox.py -> build/lib/face_alignment/detection/sfd\n",
            "copying face_alignment/detection/sfd/detect.py -> build/lib/face_alignment/detection/sfd\n",
            "copying face_alignment/detection/sfd/net_s3fd.py -> build/lib/face_alignment/detection/sfd\n",
            "copying face_alignment/detection/sfd/__init__.py -> build/lib/face_alignment/detection/sfd\n",
            "copying face_alignment/detection/sfd/sfd_detector.py -> build/lib/face_alignment/detection/sfd\n",
            "creating build/lib/face_alignment/detection/folder\n",
            "copying face_alignment/detection/folder/folder_detector.py -> build/lib/face_alignment/detection/folder\n",
            "copying face_alignment/detection/folder/__init__.py -> build/lib/face_alignment/detection/folder\n",
            "creating build/bdist.linux-x86_64\n",
            "creating build/bdist.linux-x86_64/egg\n",
            "creating build/bdist.linux-x86_64/egg/face_alignment\n",
            "copying build/lib/face_alignment/utils.py -> build/bdist.linux-x86_64/egg/face_alignment\n",
            "copying build/lib/face_alignment/api.py -> build/bdist.linux-x86_64/egg/face_alignment\n",
            "creating build/bdist.linux-x86_64/egg/face_alignment/detection\n",
            "creating build/bdist.linux-x86_64/egg/face_alignment/detection/dlib\n",
            "copying build/lib/face_alignment/detection/dlib/dlib_detector.py -> build/bdist.linux-x86_64/egg/face_alignment/detection/dlib\n",
            "copying build/lib/face_alignment/detection/dlib/__init__.py -> build/bdist.linux-x86_64/egg/face_alignment/detection/dlib\n",
            "copying build/lib/face_alignment/detection/core.py -> build/bdist.linux-x86_64/egg/face_alignment/detection\n",
            "creating build/bdist.linux-x86_64/egg/face_alignment/detection/sfd\n",
            "copying build/lib/face_alignment/detection/sfd/bbox.py -> build/bdist.linux-x86_64/egg/face_alignment/detection/sfd\n",
            "copying build/lib/face_alignment/detection/sfd/detect.py -> build/bdist.linux-x86_64/egg/face_alignment/detection/sfd\n",
            "copying build/lib/face_alignment/detection/sfd/net_s3fd.py -> build/bdist.linux-x86_64/egg/face_alignment/detection/sfd\n",
            "copying build/lib/face_alignment/detection/sfd/__init__.py -> build/bdist.linux-x86_64/egg/face_alignment/detection/sfd\n",
            "copying build/lib/face_alignment/detection/sfd/sfd_detector.py -> build/bdist.linux-x86_64/egg/face_alignment/detection/sfd\n",
            "creating build/bdist.linux-x86_64/egg/face_alignment/detection/folder\n",
            "copying build/lib/face_alignment/detection/folder/folder_detector.py -> build/bdist.linux-x86_64/egg/face_alignment/detection/folder\n",
            "copying build/lib/face_alignment/detection/folder/__init__.py -> build/bdist.linux-x86_64/egg/face_alignment/detection/folder\n",
            "copying build/lib/face_alignment/detection/__init__.py -> build/bdist.linux-x86_64/egg/face_alignment/detection\n",
            "copying build/lib/face_alignment/__init__.py -> build/bdist.linux-x86_64/egg/face_alignment\n",
            "copying build/lib/face_alignment/models.py -> build/bdist.linux-x86_64/egg/face_alignment\n",
            "byte-compiling build/bdist.linux-x86_64/egg/face_alignment/utils.py to utils.cpython-37.pyc\n",
            "byte-compiling build/bdist.linux-x86_64/egg/face_alignment/api.py to api.cpython-37.pyc\n",
            "byte-compiling build/bdist.linux-x86_64/egg/face_alignment/detection/dlib/dlib_detector.py to dlib_detector.cpython-37.pyc\n",
            "byte-compiling build/bdist.linux-x86_64/egg/face_alignment/detection/dlib/__init__.py to __init__.cpython-37.pyc\n",
            "byte-compiling build/bdist.linux-x86_64/egg/face_alignment/detection/core.py to core.cpython-37.pyc\n",
            "byte-compiling build/bdist.linux-x86_64/egg/face_alignment/detection/sfd/bbox.py to bbox.cpython-37.pyc\n",
            "byte-compiling build/bdist.linux-x86_64/egg/face_alignment/detection/sfd/detect.py to detect.cpython-37.pyc\n",
            "byte-compiling build/bdist.linux-x86_64/egg/face_alignment/detection/sfd/net_s3fd.py to net_s3fd.cpython-37.pyc\n",
            "byte-compiling build/bdist.linux-x86_64/egg/face_alignment/detection/sfd/__init__.py to __init__.cpython-37.pyc\n",
            "byte-compiling build/bdist.linux-x86_64/egg/face_alignment/detection/sfd/sfd_detector.py to sfd_detector.cpython-37.pyc\n",
            "byte-compiling build/bdist.linux-x86_64/egg/face_alignment/detection/folder/folder_detector.py to folder_detector.cpython-37.pyc\n",
            "byte-compiling build/bdist.linux-x86_64/egg/face_alignment/detection/folder/__init__.py to __init__.cpython-37.pyc\n",
            "byte-compiling build/bdist.linux-x86_64/egg/face_alignment/detection/__init__.py to __init__.cpython-37.pyc\n",
            "byte-compiling build/bdist.linux-x86_64/egg/face_alignment/__init__.py to __init__.cpython-37.pyc\n",
            "byte-compiling build/bdist.linux-x86_64/egg/face_alignment/models.py to models.cpython-37.pyc\n",
            "creating build/bdist.linux-x86_64/egg/EGG-INFO\n",
            "copying face_alignment.egg-info/PKG-INFO -> build/bdist.linux-x86_64/egg/EGG-INFO\n",
            "copying face_alignment.egg-info/SOURCES.txt -> build/bdist.linux-x86_64/egg/EGG-INFO\n",
            "copying face_alignment.egg-info/dependency_links.txt -> build/bdist.linux-x86_64/egg/EGG-INFO\n",
            "copying face_alignment.egg-info/requires.txt -> build/bdist.linux-x86_64/egg/EGG-INFO\n",
            "copying face_alignment.egg-info/top_level.txt -> build/bdist.linux-x86_64/egg/EGG-INFO\n",
            "copying face_alignment.egg-info/zip-safe -> build/bdist.linux-x86_64/egg/EGG-INFO\n",
            "creating dist\n",
            "creating 'dist/face_alignment-1.0.0-py3.7.egg' and adding 'build/bdist.linux-x86_64/egg' to it\n",
            "removing 'build/bdist.linux-x86_64/egg' (and everything under it)\n",
            "Processing face_alignment-1.0.0-py3.7.egg\n",
            "Copying face_alignment-1.0.0-py3.7.egg to /usr/local/lib/python3.7/dist-packages\n",
            "Adding face-alignment 1.0.0 to easy-install.pth file\n",
            "\n",
            "Installed /usr/local/lib/python3.7/dist-packages/face_alignment-1.0.0-py3.7.egg\n",
            "Processing dependencies for face-alignment==1.0.0\n",
            "Searching for tqdm==4.24.0\n",
            "Best match: tqdm 4.24.0\n",
            "Adding tqdm 4.24.0 to easy-install.pth file\n",
            "Installing tqdm script to /usr/local/bin\n",
            "\n",
            "Using /usr/local/lib/python3.7/dist-packages\n",
            "Searching for opencv-python==4.1.2.30\n",
            "Best match: opencv-python 4.1.2.30\n",
            "Adding opencv-python 4.1.2.30 to easy-install.pth file\n",
            "\n",
            "Using /usr/local/lib/python3.7/dist-packages\n",
            "Searching for scikit-image==0.14.0\n",
            "Best match: scikit-image 0.14.0\n",
            "Adding scikit-image 0.14.0 to easy-install.pth file\n",
            "Installing skivi script to /usr/local/bin\n",
            "\n",
            "Using /usr/local/lib/python3.7/dist-packages\n",
            "Searching for scipy==1.1.0\n",
            "Best match: scipy 1.1.0\n",
            "Adding scipy 1.1.0 to easy-install.pth file\n",
            "\n",
            "Using /usr/local/lib/python3.7/dist-packages\n",
            "Searching for numpy==1.15.0\n",
            "Best match: numpy 1.15.0\n",
            "Adding numpy 1.15.0 to easy-install.pth file\n",
            "Installing conv-template script to /usr/local/bin\n",
            "Installing f2py script to /usr/local/bin\n",
            "Installing from-template script to /usr/local/bin\n",
            "\n",
            "Using /usr/local/lib/python3.7/dist-packages\n",
            "Searching for torch==1.0.0\n",
            "Best match: torch 1.0.0\n",
            "Adding torch 1.0.0 to easy-install.pth file\n",
            "Installing convert-caffe2-to-onnx script to /usr/local/bin\n",
            "Installing convert-onnx-to-caffe2 script to /usr/local/bin\n",
            "\n",
            "Using /usr/local/lib/python3.7/dist-packages\n",
            "Searching for six==1.15.0\n",
            "Best match: six 1.15.0\n",
            "Adding six 1.15.0 to easy-install.pth file\n",
            "\n",
            "Using /usr/local/lib/python3.7/dist-packages\n",
            "Searching for matplotlib==2.2.2\n",
            "Best match: matplotlib 2.2.2\n",
            "Adding matplotlib 2.2.2 to easy-install.pth file\n",
            "\n",
            "Using /usr/local/lib/python3.7/dist-packages\n",
            "Searching for networkx==2.6.3\n",
            "Best match: networkx 2.6.3\n",
            "Adding networkx 2.6.3 to easy-install.pth file\n",
            "\n",
            "Using /usr/local/lib/python3.7/dist-packages\n",
            "Searching for Pillow==7.1.2\n",
            "Best match: Pillow 7.1.2\n",
            "Adding Pillow 7.1.2 to easy-install.pth file\n",
            "\n",
            "Using /usr/local/lib/python3.7/dist-packages\n",
            "Searching for dask==2.12.0\n",
            "Best match: dask 2.12.0\n",
            "Adding dask 2.12.0 to easy-install.pth file\n",
            "\n",
            "Using /usr/local/lib/python3.7/dist-packages\n",
            "Searching for cloudpickle==1.3.0\n",
            "Best match: cloudpickle 1.3.0\n",
            "Adding cloudpickle 1.3.0 to easy-install.pth file\n",
            "\n",
            "Using /usr/local/lib/python3.7/dist-packages\n",
            "Searching for PyWavelets==1.1.1\n",
            "Best match: PyWavelets 1.1.1\n",
            "Adding PyWavelets 1.1.1 to easy-install.pth file\n",
            "\n",
            "Using /usr/local/lib/python3.7/dist-packages\n",
            "Searching for kiwisolver==1.4.2\n",
            "Best match: kiwisolver 1.4.2\n",
            "Adding kiwisolver 1.4.2 to easy-install.pth file\n",
            "\n",
            "Using /usr/local/lib/python3.7/dist-packages\n",
            "Searching for cycler==0.11.0\n",
            "Best match: cycler 0.11.0\n",
            "Adding cycler 0.11.0 to easy-install.pth file\n",
            "\n",
            "Using /usr/local/lib/python3.7/dist-packages\n",
            "Searching for python-dateutil==2.7.3\n",
            "Best match: python-dateutil 2.7.3\n",
            "Adding python-dateutil 2.7.3 to easy-install.pth file\n",
            "\n",
            "Using /usr/local/lib/python3.7/dist-packages\n",
            "Searching for pyparsing==3.0.8\n",
            "Best match: pyparsing 3.0.8\n",
            "Adding pyparsing 3.0.8 to easy-install.pth file\n",
            "\n",
            "Using /usr/local/lib/python3.7/dist-packages\n",
            "Searching for pytz==2018.5\n",
            "Best match: pytz 2018.5\n",
            "Adding pytz 2018.5 to easy-install.pth file\n",
            "\n",
            "Using /usr/local/lib/python3.7/dist-packages\n",
            "Searching for toolz==0.11.2\n",
            "Best match: toolz 0.11.2\n",
            "Adding toolz 0.11.2 to easy-install.pth file\n",
            "\n",
            "Using /usr/local/lib/python3.7/dist-packages\n",
            "Searching for typing-extensions==4.1.1\n",
            "Best match: typing-extensions 4.1.1\n",
            "Adding typing-extensions 4.1.1 to easy-install.pth file\n",
            "\n",
            "Using /usr/local/lib/python3.7/dist-packages\n",
            "Finished processing dependencies for face-alignment==1.0.0\n"
          ]
        }
      ]
    },
    {
      "cell_type": "code",
      "source": [
        "cd .."
      ],
      "metadata": {
        "colab": {
          "base_uri": "https://localhost:8080/"
        },
        "id": "9eJe4eXU_Uhh",
        "outputId": "a8ce6015-d72f-43ae-ce78-d926f856f60b"
      },
      "execution_count": 44,
      "outputs": [
        {
          "output_type": "stream",
          "name": "stdout",
          "text": [
            "/content/pose-evaluation\n"
          ]
        }
      ]
    },
    {
      "cell_type": "code",
      "source": [
        "# to resize images present in the directory, useful only when external files uploaded or downloaded \n",
        "# image gives the error array size error (256,256,3) => 1,96,608\n",
        "from PIL import Image\n",
        "\n",
        "basewidth = 256\n",
        "baseheight = 256\n",
        "img = Image.open('/content/Emotions-dir/Images/einstein.png')\n",
        "wpercent = (basewidth / float(img.size[0]))\n",
        "hsize = int((float(img.size[1]) * float(wpercent)))\n",
        "img = img.resize((basewidth, hsize), Image.ANTIALIAS)\n",
        "hpercent = (baseheight / float(img.size[1]))\n",
        "wsize = int((float(img.size[0]) * float(hpercent)))\n",
        "img = img.resize((wsize, baseheight), Image.ANTIALIAS)\n",
        "img.save('/content/Emotions-dir/Images/resized_image.png')"
      ],
      "metadata": {
        "id": "IUGTv-7zMD6D"
      },
      "execution_count": 65,
      "outputs": []
    },
    {
      "cell_type": "code",
      "source": [
        "#  For extracting face keypoints (AKD)\n",
        "\n",
        "#  Evaluation is based on several pretrained models for faces and human poses. We evaluate, \n",
        "# if the movement is the same as in target video and if the identity is preserved.\n",
        "\n",
        "#  The general pipeline first compute the statistics for real data and generated using \n",
        "# the script extract.py. Then use script cmp.py to measure the final score. (from pose-evaluation clone)\n",
        "\n",
        "!python extract.py --in_folder /content/Emotions-dir/Images --out_file pose_gt.pkl --is_video --type face_pose --image_shape 256,256\n",
        "!python extract.py --in_folder /content/Emotions-dir/videos --out_file pose_gen.pkl --is_video --type face_pose --image_shape 256,256\n",
        "!python cmp_kp.py pose_gt.pkl pose_gen.pkl"
      ],
      "metadata": {
        "colab": {
          "base_uri": "https://localhost:8080/"
        },
        "id": "YkbRgqeQ-x8n",
        "outputId": "356145ca-cf29-444b-956a-5acf1925708b"
      },
      "execution_count": 66,
      "outputs": [
        {
          "output_type": "stream",
          "name": "stdout",
          "text": [
            " 50% 1/2 [00:03<00:03,  3.23s/it]\n",
            "Traceback (most recent call last):\n",
            "  File \"extract.py\", line 204, in <module>\n",
            "    df = func(**vars(args))\n",
            "  File \"extract.py\", line 57, in extract_face_pose\n",
            "    video = frames2array(os.path.join(in_folder, file), is_video, image_shape, column)\n",
            "  File \"/content/pose-evaluation/util.py\", line 37, in frames2array\n",
            "    return video[:, :, (image_shape[1] * column):(image_shape[1] * (column + 1))]\n",
            "IndexError: too many indices for array\n",
            "100% 1/1 [00:29<00:00, 30.00s/it]\n",
            "Traceback (most recent call last):\n",
            "  File \"/usr/local/lib/python3.7/dist-packages/pandas/io/pickle.py\", line 166, in try_read\n",
            "    return read_wrapper(lambda f: pkl.load(f))\n",
            "  File \"/usr/local/lib/python3.7/dist-packages/pandas/io/pickle.py\", line 147, in read_wrapper\n",
            "    is_text=False)\n",
            "  File \"/usr/local/lib/python3.7/dist-packages/pandas/io/common.py\", line 406, in _get_handle\n",
            "    f = open(path_or_buf, mode)\n",
            "FileNotFoundError: [Errno 2] No such file or directory: 'pose_gt.pkl'\n",
            "\n",
            "During handling of the above exception, another exception occurred:\n",
            "\n",
            "Traceback (most recent call last):\n",
            "  File \"/usr/local/lib/python3.7/dist-packages/pandas/io/pickle.py\", line 171, in try_read\n",
            "    lambda f: pc.load(f, encoding=encoding, compat=False))\n",
            "  File \"/usr/local/lib/python3.7/dist-packages/pandas/io/pickle.py\", line 147, in read_wrapper\n",
            "    is_text=False)\n",
            "  File \"/usr/local/lib/python3.7/dist-packages/pandas/io/common.py\", line 406, in _get_handle\n",
            "    f = open(path_or_buf, mode)\n",
            "FileNotFoundError: [Errno 2] No such file or directory: 'pose_gt.pkl'\n",
            "\n",
            "During handling of the above exception, another exception occurred:\n",
            "\n",
            "Traceback (most recent call last):\n",
            "  File \"/usr/local/lib/python3.7/dist-packages/pandas/io/pickle.py\", line 177, in read_pickle\n",
            "    return try_read(path)\n",
            "  File \"/usr/local/lib/python3.7/dist-packages/pandas/io/pickle.py\", line 175, in try_read\n",
            "    lambda f: pc.load(f, encoding=encoding, compat=True))\n",
            "  File \"/usr/local/lib/python3.7/dist-packages/pandas/io/pickle.py\", line 147, in read_wrapper\n",
            "    is_text=False)\n",
            "  File \"/usr/local/lib/python3.7/dist-packages/pandas/io/common.py\", line 406, in _get_handle\n",
            "    f = open(path_or_buf, mode)\n",
            "FileNotFoundError: [Errno 2] No such file or directory: 'pose_gt.pkl'\n",
            "\n",
            "During handling of the above exception, another exception occurred:\n",
            "\n",
            "Traceback (most recent call last):\n",
            "  File \"/usr/local/lib/python3.7/dist-packages/pandas/io/pickle.py\", line 166, in try_read\n",
            "    return read_wrapper(lambda f: pkl.load(f))\n",
            "  File \"/usr/local/lib/python3.7/dist-packages/pandas/io/pickle.py\", line 147, in read_wrapper\n",
            "    is_text=False)\n",
            "  File \"/usr/local/lib/python3.7/dist-packages/pandas/io/common.py\", line 406, in _get_handle\n",
            "    f = open(path_or_buf, mode)\n",
            "FileNotFoundError: [Errno 2] No such file or directory: 'pose_gt.pkl'\n",
            "\n",
            "During handling of the above exception, another exception occurred:\n",
            "\n",
            "Traceback (most recent call last):\n",
            "  File \"/usr/local/lib/python3.7/dist-packages/pandas/io/pickle.py\", line 171, in try_read\n",
            "    lambda f: pc.load(f, encoding=encoding, compat=False))\n",
            "  File \"/usr/local/lib/python3.7/dist-packages/pandas/io/pickle.py\", line 147, in read_wrapper\n",
            "    is_text=False)\n",
            "  File \"/usr/local/lib/python3.7/dist-packages/pandas/io/common.py\", line 406, in _get_handle\n",
            "    f = open(path_or_buf, mode)\n",
            "FileNotFoundError: [Errno 2] No such file or directory: 'pose_gt.pkl'\n",
            "\n",
            "During handling of the above exception, another exception occurred:\n",
            "\n",
            "Traceback (most recent call last):\n",
            "  File \"cmp_kp.py\", line 10, in <module>\n",
            "    df1 = pd.read_pickle(df1)\n",
            "  File \"/usr/local/lib/python3.7/dist-packages/pandas/io/pickle.py\", line 180, in read_pickle\n",
            "    return try_read(path, encoding='latin1')\n",
            "  File \"/usr/local/lib/python3.7/dist-packages/pandas/io/pickle.py\", line 175, in try_read\n",
            "    lambda f: pc.load(f, encoding=encoding, compat=True))\n",
            "  File \"/usr/local/lib/python3.7/dist-packages/pandas/io/pickle.py\", line 147, in read_wrapper\n",
            "    is_text=False)\n",
            "  File \"/usr/local/lib/python3.7/dist-packages/pandas/io/common.py\", line 406, in _get_handle\n",
            "    f = open(path_or_buf, mode)\n",
            "FileNotFoundError: [Errno 2] No such file or directory: 'pose_gt.pkl'\n"
          ]
        }
      ]
    }
  ]
}